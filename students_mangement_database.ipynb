{
  "nbformat": 4,
  "nbformat_minor": 0,
  "metadata": {
    "colab": {
      "provenance": [],
      "authorship_tag": "ABX9TyNqARBpygf9rbaZVpmMnJp5",
      "include_colab_link": true
    },
    "kernelspec": {
      "name": "python3",
      "display_name": "Python 3"
    },
    "language_info": {
      "name": "python"
    }
  },
  "cells": [
    {
      "cell_type": "markdown",
      "metadata": {
        "id": "view-in-github",
        "colab_type": "text"
      },
      "source": [
        "<a href=\"https://colab.research.google.com/github/wajihh/Quarter1_Projects/blob/main/students_mangement_database.ipynb\" target=\"_parent\"><img src=\"https://colab.research.google.com/assets/colab-badge.svg\" alt=\"Open In Colab\"/></a>"
      ]
    },
    {
      "cell_type": "markdown",
      "source": [
        "#Student Management Database in Python\n",
        "\n",
        "##Objective:\n",
        "The goal of this project is to develop a Python-based student management system where users can add new students to a database, ensure no duplicate student names are entered, and display various statistics about the students. Each student is assigned a unique ID, and the program outputs the list of students and relevant summary information such as the total number of students and name length statistics.\n",
        "\n",
        "##Description:\n",
        "This program was implemented using the following steps:\n",
        "\n",
        "  -Initialization: A function manage_student_database() was defined, and an empty list was initialized to store tuples containing each student's ID and name. A counter was set to generate sequential IDs.\n",
        "  -User Input: The program continuously prompts the user to enter student names. Input collection stops when the user types \"stop.\"\n",
        "  -Duplicate Check: For each new student, the program checks if the name already exists in the database, and if so, it prompts the user to enter a new name.\n",
        "  -Adding Students: Unique student names are added to the list as tuples of ID and name.\n",
        "  -Display Results: Once input is complete, the program prints the complete list of students, and displays each student's ID and name individually.\n",
        "  -Summary Statistics: The program calculates and displays the total number of students, the total length of all student names combined, and identifies the students with the longest and shortest names.\n"
      ],
      "metadata": {
        "id": "U0cVL03y_gBP"
      }
    },
    {
      "cell_type": "code",
      "source": [],
      "metadata": {
        "id": "kuPFJ0SvBnxw"
      },
      "execution_count": null,
      "outputs": []
    },
    {
      "cell_type": "code",
      "source": [
        "def manage_student_database():\n",
        "    # Initialize an empty list to store student tuples (ID, Name)\n",
        "    students = []\n",
        "\n",
        "    # ID counter starting from 1\n",
        "    student_id = 1\n",
        "\n",
        "    while True:\n",
        "        # Prompt the user to enter a student's name\n",
        "        name = input(\"Please enter the student's name (or type 'stop' to finish): \").strip()\n",
        "\n",
        "        # Check if the user entered \"stop\" to exit the loop\n",
        "        if name.lower() == 'stop':\n",
        "            break\n",
        "\n",
        "        # Check if the name is already in the list of students\n",
        "        if any(student[1].lower() == name.lower() for student in students):\n",
        "            print(f\"This name is already in the list.\")\n",
        "            continue\n",
        "\n",
        "        # Add the student (ID, name) to the list if it's not a duplicate\n",
        "        students.append((student_id, name))\n",
        "        student_id += 1  # Increment the student ID\n",
        "\n",
        "    # Display the complete list of students\n",
        "    print(\"\\nComplete List of Students (Tuples):\")\n",
        "    print(students)\n",
        "\n",
        "    # Display each student's ID and name individually\n",
        "    print(\"\\nList of Students with IDs:\")\n",
        "    for student in students:\n",
        "        print(f\"ID: {student[0]}, Name: {student[1]}\")\n",
        "\n",
        "    # Display the total number of students\n",
        "    total_students = len(students)\n",
        "    print(f\"\\nTotal number of students: {total_students}\")\n",
        "\n",
        "    # Calculate the total length of all student names combined\n",
        "    total_name_length = sum(len(student[1]) for student in students)\n",
        "    print(f\"Total length of all student names combined: {total_name_length}\")\n",
        "\n",
        "    # Find the student with the longest and shortest name\n",
        "    longest_name = max(students, key=lambda student: len(student[1]))\n",
        "    shortest_name = min(students, key=lambda student: len(student[1]))\n",
        "\n",
        "    print(f\"The student with the longest name is: {longest_name[1]}\")\n",
        "    print(f\"The student with the shortest name is: {shortest_name[1]}\")\n",
        "\n",
        "# Call the function to run the student management program\n",
        "manage_student_database()\n"
      ],
      "metadata": {
        "colab": {
          "base_uri": "https://localhost:8080/"
        },
        "id": "BThWpbK5_k-D",
        "outputId": "e5b6441d-50f9-4731-c68e-1811c4d18da8"
      },
      "execution_count": 1,
      "outputs": [
        {
          "output_type": "stream",
          "name": "stdout",
          "text": [
            "Please enter the student's name (or type 'stop' to finish): ali\n",
            "Please enter the student's name (or type 'stop' to finish): shahid\n",
            "Please enter the student's name (or type 'stop' to finish): moazzam\n",
            "Please enter the student's name (or type 'stop' to finish): babar\n",
            "Please enter the student's name (or type 'stop' to finish): stop\n",
            "\n",
            "Complete List of Students (Tuples):\n",
            "[(1, 'ali'), (2, 'shahid'), (3, 'moazzam'), (4, 'babar')]\n",
            "\n",
            "List of Students with IDs:\n",
            "ID: 1, Name: ali\n",
            "ID: 2, Name: shahid\n",
            "ID: 3, Name: moazzam\n",
            "ID: 4, Name: babar\n",
            "\n",
            "Total number of students: 4\n",
            "Total length of all student names combined: 21\n",
            "The student with the longest name is: moazzam\n",
            "The student with the shortest name is: ali\n"
          ]
        }
      ]
    },
    {
      "cell_type": "markdown",
      "source": [
        "##Conclusion\n",
        "The program successfully manages a student database by handling user input, checking for duplicate names, and providing a comprehensive overview of the student list and name statistics. This implementation ensures that user inputs are processed efficiently while maintaining accurate data in the database. The output provides both detailed and summarized information about the student list, fulfilling the project's objectives."
      ],
      "metadata": {
        "id": "gVmtHYGpCUWo"
      }
    }
  ]
}